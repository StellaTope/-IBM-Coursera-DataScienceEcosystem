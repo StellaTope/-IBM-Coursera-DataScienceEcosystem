{
 "cells": [
  {
   "cell_type": "markdown",
   "id": "8dfbefd2-0ac0-4bf2-98c7-8ebf35592df1",
   "metadata": {},
   "source": [
    "# Data Science Tools and Ecosystem"
   ]
  },
  {
   "cell_type": "markdown",
   "id": "93e8bb8c-620a-4eb5-b4d6-c8f1e2e41dfa",
   "metadata": {},
   "source": [
    "In this notebook, Data Science Tools and Ecosystem are summarized"
   ]
  },
  {
   "cell_type": "markdown",
   "id": "27a11713-bf30-402f-933e-90a3a946bb63",
   "metadata": {},
   "source": [
    "**Objectives**\n",
    "- List popular languages for Data Science\n",
    "- List data science libraries\n",
    "- Make a table of Data Science tools\n",
    "- Introduce arithmetic expression examples"
   ]
  },
  {
   "cell_type": "markdown",
   "id": "b7153e41-6e31-48b4-90e3-2d077bea5aad",
   "metadata": {},
   "source": [
    "Some of the popular languages that Data Scientists use are\n",
    "1. Python\n",
    "2. R\n",
    "3. SQL\n",
    "4. JavaScript\n",
    "5. Julia\n",
    "6. Scala\n"
   ]
  },
  {
   "cell_type": "markdown",
   "id": "ee1a0a2c-b78e-465b-b587-8a05aa9c5cbd",
   "metadata": {},
   "source": [
    "Some of the commonly used libraries used by Data Scientists include\n",
    "1. TensorFlow\n",
    "2. NumPy\n",
    "3. SciPy \n",
    "4. Pandas\n",
    "5. Matplotlib \n",
    "6. Keras\n",
    "7. SciKit-Learn\n",
    "8. PyTorch\n",
    "9. Scrapy\n",
    "10. BeautifulSoup\n"
   ]
  },
  {
   "cell_type": "markdown",
   "id": "1e962bcd-b496-4bee-9a46-349fc2ddea4e",
   "metadata": {},
   "source": [
    "|Data Science Tools|\n",
    "|-------|\n",
    "|Apache Spark|\n",
    "|TensorFlow|\n",
    "|Apache Hadoop|\n"
   ]
  },
  {
   "cell_type": "markdown",
   "id": "36b61cea-230a-4180-99c9-380caa5adffd",
   "metadata": {},
   "source": [
    "### Below are a few examples of evaluating arithmetic expressions in Python"
   ]
  },
  {
   "cell_type": "code",
   "execution_count": 4,
   "id": "8f311763-cbd0-4376-8594-b5dfbb15669f",
   "metadata": {
    "tags": []
   },
   "outputs": [
    {
     "name": "stdout",
     "output_type": "stream",
     "text": [
      "17\n"
     ]
    }
   ],
   "source": [
    "#This a simple arithmetic expression to mutiply then add integers\n",
    "\n",
    "codecell = (3*4) + 5\n",
    "print(codecell)"
   ]
  },
  {
   "cell_type": "code",
   "execution_count": 8,
   "id": "ce1915cc-d427-47a9-8949-9892eb27251d",
   "metadata": {},
   "outputs": [
    {
     "name": "stdout",
     "output_type": "stream",
     "text": [
      "3.3333333333333335\n"
     ]
    }
   ],
   "source": [
    "#This will convert 200 minutes to hours by dividing by 60\n",
    "#200 minutes into hours\n",
    "\n",
    "mins = 200\n",
    "hours = mins // 60\n",
    "\n",
    "#additional minutes\n",
    "minutes = mins % 60\n",
    "\n",
    "time = hours + minutes/60\n",
    "\n",
    "print(time)"
   ]
  },
  {
   "cell_type": "markdown",
   "id": "208da574-f7d3-4ef7-815e-8f6e2268198f",
   "metadata": {},
   "source": [
    "## Author\n",
    "Stella Joseph"
   ]
  },
  {
   "cell_type": "code",
   "execution_count": null,
   "id": "13802947-6b16-489d-b24e-dbef4310da4c",
   "metadata": {},
   "outputs": [],
   "source": []
  }
 ],
 "metadata": {
  "kernelspec": {
   "display_name": "Python",
   "language": "python",
   "name": "conda-env-python-py"
  },
  "language_info": {
   "codemirror_mode": {
    "name": "ipython",
    "version": 3
   },
   "file_extension": ".py",
   "mimetype": "text/x-python",
   "name": "python",
   "nbconvert_exporter": "python",
   "pygments_lexer": "ipython3",
   "version": "3.7.12"
  }
 },
 "nbformat": 4,
 "nbformat_minor": 5
}
